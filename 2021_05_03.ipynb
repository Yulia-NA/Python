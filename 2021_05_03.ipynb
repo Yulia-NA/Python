{
 "cells": [
  {
   "cell_type": "code",
   "execution_count": 1,
   "metadata": {},
   "outputs": [
    {
     "name": "stdout",
     "output_type": "stream",
     "text": [
      "hi\n"
     ]
    }
   ],
   "source": [
    "print(\"hi\")"
   ]
  },
  {
   "cell_type": "code",
   "execution_count": 6,
   "metadata": {},
   "outputs": [
    {
     "name": "stdout",
     "output_type": "stream",
     "text": [
      "정수 입력> 123\n",
      "원의 반지름: 123\n",
      "원의 둘레: 772.44\n",
      "원의 넓이: 47505.060000000005\n"
     ]
    }
   ],
   "source": [
    "user_input_a = input(\"정수 입력> \")\n",
    "if user_input_a.isdigit():\n",
    "    number_inpput_a = int(user_input_a)\n",
    "    print(\"원의 반지름:\", number_input_a)\n",
    "    print(\"원의 둘레:\", 2 * 3.14 * number_input_a)\n",
    "    print(\"원의 넓이:\", 3.14 * number_input_a * number_input_a)\n",
    "else:\n",
    "    print(\"정수를 입력하지 않았습니다.\")"
   ]
  },
  {
   "cell_type": "code",
   "execution_count": 3,
   "metadata": {},
   "outputs": [
    {
     "name": "stdout",
     "output_type": "stream",
     "text": [
      "정수 입력> 123\n",
      "원의 반지름: 123\n",
      "원의 둘레: 772.44\n",
      "원의 넓이: 47505.060000000005\n"
     ]
    }
   ],
   "source": [
    "try:\n",
    "    number_input_a = int(input(\"정수 입력> \"))\n",
    "    print(\"원의 반지름:\", number_input_a)\n",
    "    print(\"원의 둘레:\", 2 * 3.14 * number_input_a)\n",
    "    print(\"원의 넓이:\", 3.14 * number_input_a * number_input_a)\n",
    "except:\n",
    "    print(\"무언가 잘못되었습니다.\")"
   ]
  },
  {
   "cell_type": "code",
   "execution_count": 7,
   "metadata": {},
   "outputs": [
    {
     "name": "stdout",
     "output_type": "stream",
     "text": [
      "['52', '273', '32', '스파이', '103']내부에 있는 숫자는\n",
      "['52', '273', '32', '103']입니다.\n"
     ]
    }
   ],
   "source": [
    "list_input_a = [\"52\", \"273\", \"32\", \"스파이\", \"103\"]\n",
    "list_number = []\n",
    "for item in list_input_a:\n",
    "    try:\n",
    "        float(item)\n",
    "        list_number.append(item)\n",
    "    except:\n",
    "        pass\n",
    "print(\"{}내부에 있는 숫자는\".format(list_input_a))\n",
    "print(\"{}입니다.\".format(list_number))"
   ]
  },
  {
   "cell_type": "code",
   "execution_count": 8,
   "metadata": {},
   "outputs": [
    {
     "name": "stdout",
     "output_type": "stream",
     "text": [
      "정수 입력> 3\n",
      "원의 반지름: 3\n",
      "원의 둘레: 18.84\n",
      "원의 넓이: 28.259999999999998\n"
     ]
    }
   ],
   "source": [
    "try:\n",
    "    number_input_a = int(input(\"정수 입력> \"))\n",
    "except:\n",
    "    print(\"정수를 입력하지 않았습니다.\")\n",
    "else:\n",
    "    print(\"원의 반지름:\", number_input_a)\n",
    "    print(\"원의 둘레:\", 2 * 3.14 * number_input_a)\n",
    "    print(\"원의 넓이:\", 3.14 * number_input_a * number_input_a)"
   ]
  },
  {
   "cell_type": "code",
   "execution_count": 12,
   "metadata": {},
   "outputs": [
    {
     "name": "stdout",
     "output_type": "stream",
     "text": [
      "정수 입력> yes\n",
      "정수를 입력해달라고 했잖아요?!\n",
      "일단 프로그램이 어떻게든 끝났습니다.\n"
     ]
    }
   ],
   "source": [
    "try:\n",
    "    number_input_a = int(input(\"정수 입력> \"))\n",
    "\n",
    "    print(\"정수를 입력하지 않았습니다.\")\n",
    "    print(\"원의 반지름:\", number_input_a)\n",
    "    print(\"원의 둘레:\", 2 * 3.14 * number_input_a)\n",
    "    print(\"원의 넓이:\", 3.14 * number_input_a * number_input_a)\n",
    "except:\n",
    "    print(\"정수를 입력해달라고 했잖아요?!\")\n",
    "else:\n",
    "    print(\"예외가 발생하지 않았습니다.\")\n",
    "finally:\n",
    "    print(\"일단 프로그램이 어떻게든 끝났습니다.\")"
   ]
  },
  {
   "cell_type": "code",
   "execution_count": 49,
   "metadata": {},
   "outputs": [
    {
     "name": "stdout",
     "output_type": "stream",
     "text": [
      "test() 함수의 첫 줄입니다.\n",
      "try 구문이 실행되었습니다.\n",
      "finally 구문이 실행되었습니다.\n",
      "test() 함수의 마지막 줄입니다.\n"
     ]
    }
   ],
   "source": [
    "def test():\n",
    "    print(\"test() 함수의 첫 줄입니다.\")\n",
    "    try:\n",
    "        print(\"try 구문이 실행되었습니다.\")\n",
    "        return\n",
    "        print(\"try 구문의 return 키워든 뒤입니다.\")\n",
    "    except:           \n",
    "        print(\"except 구문이 실행되었습니다.\")\n",
    "    else:\n",
    "        print(\"else 구문이 실행되었습니다.\")\n",
    "    finally:\n",
    "        print(\"finally 구문이 실행되었습니다.\")\n",
    "        print(\"test() 함수의 마지막 줄입니다.\")\n",
    "test()"
   ]
  },
  {
   "cell_type": "code",
   "execution_count": 33,
   "metadata": {},
   "outputs": [
    {
     "name": "stdout",
     "output_type": "stream",
     "text": [
      "try 구문이 실행되었습니다.\n",
      "finally 구문이 실행되었습니다.\n",
      "프로그램이 종료되었습니다.\n"
     ]
    }
   ],
   "source": [
    "print\n",
    "while True:\n",
    "    try:\n",
    "        print(\"try 구문이 실행되었습니다.\")\n",
    "        break\n",
    "        print(\"try 구문의 break 키워드 뒤입니다.\")\n",
    "    except:\n",
    "        print(\"except 구문이 실행되었습니다.\")\n",
    "    finally:\n",
    "        print(\"finally 구문이 실행되었습니다.\")\n",
    "    print(\"while 반복문의 마지막 줄입니다.\")\n",
    "print(\"프로그램이 종료되었습니다.\")    "
   ]
  },
  {
   "cell_type": "code",
   "execution_count": 60,
   "metadata": {},
   "outputs": [
    {
     "ename": "SyntaxError",
     "evalue": "invalid syntax (<ipython-input-60-068aee5f8225>, line 8)",
     "output_type": "error",
     "traceback": [
      "\u001b[1;36m  File \u001b[1;32m\"<ipython-input-60-068aee5f8225>\"\u001b[1;36m, line \u001b[1;32m8\u001b[0m\n\u001b[1;33m    print(\"exception:\", exception)\u001b[0m\n\u001b[1;37m    ^\u001b[0m\n\u001b[1;31mSyntaxError\u001b[0m\u001b[1;31m:\u001b[0m invalid syntax\n"
     ]
    }
   ],
   "source": [
    "try:\n",
    "    number_input_a = int(input(\"정수 입력> \"))\n",
    "    print(\"원의 반지름:\", number_input_a)\n",
    "    print(\"원의 둘레:\", 2 * 3.14 * number_input_a)\n",
    "    print(\"원의 넓이:\", 3.14 * number_input_a * number_input_a)\n",
    "except Exception as exception:\n",
    "    print(\"type(exception):\", type(exception)\n",
    "    print(\"exception:\", exception)"
   ]
  },
  {
   "cell_type": "code",
   "execution_count": 25,
   "metadata": {},
   "outputs": [
    {
     "name": "stdout",
     "output_type": "stream",
     "text": [
      "정수입력> 1\n",
      "1번째 요소: 273\n"
     ]
    }
   ],
   "source": [
    "list_number = [52, 273, 32, 100]\n",
    "\n",
    "try:\n",
    "        number_input = int(input(\"정수입력> \"))\n",
    "        print(\"{}번째 요소: {}\".format(number_input, list_number[number_input]))\n",
    "except ValueError:\n",
    "        print(\"정수를 입력해 주세요!\")\n",
    "       \n",
    "except IndexError:\n",
    "        print(\"리스트의 인덱스를 벗어났어요!\")"
   ]
  },
  {
   "cell_type": "code",
   "execution_count": 52,
   "metadata": {},
   "outputs": [
    {
     "name": "stdout",
     "output_type": "stream",
     "text": [
      "정수입력> 3\n",
      "3번째 요소: 100\n"
     ]
    }
   ],
   "source": [
    "list_number = [52, 273, 32, 100]\n",
    "\n",
    "try:\n",
    "        number_input = int(input(\"정수입력> \"))\n",
    "        print(\"{}번째 요소: {}\".format(number_input, list_number[number_input]))\n",
    "except ValueError as exception:\n",
    "        print(\"정수를 입력해 주세요!\")\n",
    "        print(\"exception:\", exception)\n",
    "       \n",
    "except IndexError as exception:\n",
    "        print(\"리스트의 인덱스를 벗어났어요!\")\n",
    "        print(\"exception:\", exception)"
   ]
  },
  {
   "cell_type": "code",
   "execution_count": 53,
   "metadata": {},
   "outputs": [
    {
     "name": "stdout",
     "output_type": "stream",
     "text": [
      "정수입력> 3268\n",
      "리스트의 인덱스를 벗어났어요!\n",
      "<class 'IndexError'> list index out of range\n"
     ]
    }
   ],
   "source": [
    "list_number = [52, 273, 32, 100]\n",
    "\n",
    "try:\n",
    "        number_input = int(input(\"정수입력> \"))\n",
    "        print(\"{}번째 요소: {}\".format(number_input, list_number[number_input]))\n",
    "        예외.발생해주세요()\n",
    "except ValueError as exception:\n",
    "        print(\"정수를 입력해 주세요!\")\n",
    "        print(type(exception), exception)\n",
    "       \n",
    "except IndexError as exception:\n",
    "        print(\"리스트의 인덱스를 벗어났어요!\")\n",
    "        print(type(exception), exception)"
   ]
  },
  {
   "cell_type": "code",
   "execution_count": null,
   "metadata": {},
   "outputs": [],
   "source": []
  }
 ],
 "metadata": {
  "kernelspec": {
   "display_name": "Python 3",
   "language": "python",
   "name": "python3"
  },
  "language_info": {
   "codemirror_mode": {
    "name": "ipython",
    "version": 3
   },
   "file_extension": ".py",
   "mimetype": "text/x-python",
   "name": "python",
   "nbconvert_exporter": "python",
   "pygments_lexer": "ipython3",
   "version": "3.8.5"
  }
 },
 "nbformat": 4,
 "nbformat_minor": 4
}
